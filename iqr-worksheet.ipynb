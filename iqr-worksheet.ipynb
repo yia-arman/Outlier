{
 "cells": [
  {
   "cell_type": "markdown",
   "id": "144ad58c",
   "metadata": {},
   "source": [
    "Library "
   ]
  },
  {
   "cell_type": "code",
   "execution_count": 6,
   "id": "991f77a0",
   "metadata": {},
   "outputs": [],
   "source": [
    "import numpy as np"
   ]
  },
  {
   "cell_type": "markdown",
   "id": "a2fdcff6",
   "metadata": {},
   "source": [
    "Sample dataset"
   ]
  },
  {
   "cell_type": "code",
   "execution_count": 41,
   "id": "bf8dc5fc",
   "metadata": {},
   "outputs": [],
   "source": [
    "scores = [78, 85, 92, 58, 95, 60, 72, 88, 20, 92, 98, 55, 78, 86, 90, 92, 96, 70, 120, 200, 85, 72]\n"
   ]
  },
  {
   "cell_type": "markdown",
   "id": "dbd2d525",
   "metadata": {},
   "source": [
    "The interquartile range (IQR)"
   ]
  },
  {
   "cell_type": "code",
   "execution_count": 40,
   "id": "e5795913",
   "metadata": {},
   "outputs": [],
   "source": [
    "def handle_outliers_iqr(data, multiplier=1.5):\n",
    "    # Calculate the first and third quartiles\n",
    "\n",
    "    # Calculate the interquartile range (IQR)\n",
    "\n",
    "    # Define the upper and lower thresholds for outliers\n",
    "\n",
    "    # Identify outliers\n",
    "    \n",
    "    # Handle outliers\n",
    "\n",
    "    return handled_data, outliers"
   ]
  },
  {
   "cell_type": "markdown",
   "id": "761c56eb",
   "metadata": {},
   "source": [
    "Example"
   ]
  },
  {
   "cell_type": "code",
   "execution_count": 42,
   "id": "3e99be67",
   "metadata": {},
   "outputs": [
    {
     "name": "stdout",
     "output_type": "stream",
     "text": [
      "92.0\n",
      "72.0\n",
      "42.0\n",
      "122.0\n",
      "Original Data: [78, 85, 92, 58, 95, 60, 72, 88, 20, 92, 98, 55, 78, 86, 90, 92, 96, 70, 120, 200, 85, 72]\n",
      "Handled Data: [78, 85, 92, 58, 95, 60, 72, 88, 92, 98, 55, 78, 86, 90, 92, 96, 70, 120, 85, 72]\n",
      "Detected Outliers: [20, 200]\n"
     ]
    }
   ],
   "source": [
    "# handled_data, detected_outliers = handle_outliers_iqr(scores)\n",
    "\n",
    "# print(\"Original Data:\", scores)\n",
    "# print(\"Handled Data:\", handled_data)\n",
    "# print(\"Detected Outliers:\", detected_outliers)"
   ]
  },
  {
   "cell_type": "code",
   "execution_count": null,
   "id": "19157547",
   "metadata": {},
   "outputs": [],
   "source": []
  }
 ],
 "metadata": {
  "kernelspec": {
   "display_name": "Python 3 (ipykernel)",
   "language": "python",
   "name": "python3"
  },
  "language_info": {
   "codemirror_mode": {
    "name": "ipython",
    "version": 3
   },
   "file_extension": ".py",
   "mimetype": "text/x-python",
   "name": "python",
   "nbconvert_exporter": "python",
   "pygments_lexer": "ipython3",
   "version": "3.9.12"
  }
 },
 "nbformat": 4,
 "nbformat_minor": 5
}
