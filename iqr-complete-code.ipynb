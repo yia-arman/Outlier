{
 "cells": [
  {
   "cell_type": "markdown",
   "id": "abd855df",
   "metadata": {},
   "source": [
    "Library "
   ]
  },
  {
   "cell_type": "code",
   "execution_count": 2,
   "id": "cfca0fd0",
   "metadata": {},
   "outputs": [],
   "source": [
    "import numpy as np"
   ]
  },
  {
   "cell_type": "markdown",
   "id": "30ec0e91",
   "metadata": {},
   "source": [
    "Sample dataset"
   ]
  },
  {
   "cell_type": "code",
   "execution_count": 16,
   "id": "e4f346d9",
   "metadata": {},
   "outputs": [],
   "source": [
    "data = [78, 85, 92, 58, 95, 60, 72, 88, 20, 92, 98, 55, 78, 86, 90, 92, 96, 70, 120, 200, 85, 72]"
   ]
  },
  {
   "cell_type": "markdown",
   "id": "ff667dae",
   "metadata": {},
   "source": [
    "The interquartile range (IQR)"
   ]
  },
  {
   "cell_type": "code",
   "execution_count": 15,
   "id": "35a0bab5",
   "metadata": {},
   "outputs": [],
   "source": [
    "def handle_outliers_iqr(data, multiplier=1.5):\n",
    "    # Calculate the first and third quartiles\n",
    "    q1 = np.percentile(data, 25)\n",
    "    q3 = np.percentile(data, 75)\n",
    "    \n",
    "    # Calculate the interquartile range (IQR)\n",
    "    iqr = q3 - q1\n",
    "    # Define the upper and lower thresholds for outliers\n",
    "    lower = q1 - iqr*multiplier\n",
    "    upper = q3 + iqr*multiplier\n",
    "    print(f'q1: {q1}  q3: {q3}   iqr:{iqr}  lower: {lower}  upper: {upper}')\n",
    "    # Identify outliers\n",
    "    outliers = [x for x in data if x < lower or x > upper]\n",
    "    # Handle outliers\n",
    "    handled_data = [x for x in data if x not in outliers]\n",
    "\n",
    "    return handled_data, outliers"
   ]
  },
  {
   "cell_type": "markdown",
   "id": "ea377036",
   "metadata": {},
   "source": [
    "Example"
   ]
  },
  {
   "cell_type": "code",
   "execution_count": 17,
   "id": "a5c7aa09",
   "metadata": {},
   "outputs": [
    {
     "name": "stdout",
     "output_type": "stream",
     "text": [
      "q1: 72.0  q3: 92.0   iqr:20.0  lower: 42.0  upper: 122.0\n",
      "Original Data: [78, 85, 92, 58, 95, 60, 72, 88, 20, 92, 98, 55, 78, 86, 90, 92, 96, 70, 120, 200, 85, 72]\n",
      "Handled Data: [78, 85, 92, 58, 95, 60, 72, 88, 92, 98, 55, 78, 86, 90, 92, 96, 70, 120, 85, 72]\n",
      "Detected Outliers: [20, 200]\n"
     ]
    }
   ],
   "source": [
    "handled_data, detected_outliers = handle_outliers_iqr(data)\n",
    "\n",
    "print(\"Original Data:\", data)\n",
    "print(\"Handled Data:\", handled_data)\n",
    "print(\"Detected Outliers:\", detected_outliers)"
   ]
  },
  {
   "cell_type": "code",
   "execution_count": null,
   "id": "2e58ec8b",
   "metadata": {},
   "outputs": [],
   "source": []
  }
 ],
 "metadata": {
  "kernelspec": {
   "display_name": "Python 3 (ipykernel)",
   "language": "python",
   "name": "python3"
  },
  "language_info": {
   "codemirror_mode": {
    "name": "ipython",
    "version": 3
   },
   "file_extension": ".py",
   "mimetype": "text/x-python",
   "name": "python",
   "nbconvert_exporter": "python",
   "pygments_lexer": "ipython3",
   "version": "3.9.12"
  }
 },
 "nbformat": 4,
 "nbformat_minor": 5
}
